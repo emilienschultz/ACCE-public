{
 "cells": [
  {
   "cell_type": "code",
   "execution_count": 2,
   "metadata": {
    "collapsed": true
   },
   "outputs": [],
   "source": [
    "%matplotlib inline\n",
    "import pandas as pd\n",
    "import numpy as np\n",
    "import matplotlib.pyplot as plt\n",
    "import matplotlib.dates as mdates\n",
    "import matplotlib.ticker as mticker"
   ]
  },
  {
   "cell_type": "markdown",
   "metadata": {},
   "source": [
    "Ce document a pour objectif d'analyser le fichier des associations disponible sur data.gouv.fr avec un focus spécifique sur les associations autour du cancer de l'enfant dans le cadre du projet ACCE (dir. Besle)"
   ]
  },
  {
   "cell_type": "markdown",
   "metadata": {},
   "source": [
    "Chargement du fichier"
   ]
  },
  {
   "cell_type": "code",
   "execution_count": 45,
   "metadata": {},
   "outputs": [
    {
     "name": "stderr",
     "output_type": "stream",
     "text": [
      "/Users/emilien/anaconda3/envs/p35/lib/python3.5/site-packages/IPython/core/interactiveshell.py:2698: DtypeWarning: Columns (2,3,14,15,18,23,30) have mixed types. Specify dtype option on import or set low_memory=False.\n",
      "  interactivity=interactivity, compiler=compiler, result=result)\n"
     ]
    }
   ],
   "source": [
    "data = pd.read_csv(\"../../Downloads/rna_waldec_20180403.csv\",sep=\";\", encoding = \"ISO-8859-1\")"
   ]
  },
  {
   "cell_type": "code",
   "execution_count": 6,
   "metadata": {},
   "outputs": [
    {
     "data": {
      "text/plain": [
       "Index(['id', 'id_ex', 'siret', 'rup_mi', 'gestion', 'date_creat', 'date_decla',\n",
       "       'date_publi', 'date_disso', 'nature', 'groupement', 'titre',\n",
       "       'titre_court', 'objet', 'objet_social1', 'objet_social2',\n",
       "       'adrs_complement', 'adrs_numvoie', 'adrs_repetition', 'adrs_typevoie',\n",
       "       'adrs_libvoie', 'adrs_distrib', 'adrs_codeinsee', 'adrs_codepostal',\n",
       "       'adrs_libcommune', 'adrg_declarant', 'adrg_complemid',\n",
       "       'adrg_complemgeo', 'adrg_libvoie', 'adrg_distrib', 'adrg_codepostal',\n",
       "       'adrg_achemine', 'adrg_pays', 'dir_civilite', 'telephone', 'siteweb',\n",
       "       'email', 'publiweb', 'observation', 'position', 'maj_time'],\n",
       "      dtype='object')"
      ]
     },
     "execution_count": 6,
     "metadata": {},
     "output_type": "execute_result"
    }
   ],
   "source": [
    "data.columns"
   ]
  },
  {
   "cell_type": "code",
   "execution_count": 70,
   "metadata": {},
   "outputs": [
    {
     "data": {
      "text/html": [
       "<div>\n",
       "<style scoped>\n",
       "    .dataframe tbody tr th:only-of-type {\n",
       "        vertical-align: middle;\n",
       "    }\n",
       "\n",
       "    .dataframe tbody tr th {\n",
       "        vertical-align: top;\n",
       "    }\n",
       "\n",
       "    .dataframe thead th {\n",
       "        text-align: right;\n",
       "    }\n",
       "</style>\n",
       "<table border=\"1\" class=\"dataframe\">\n",
       "  <thead>\n",
       "    <tr style=\"text-align: right;\">\n",
       "      <th></th>\n",
       "      <th>id</th>\n",
       "      <th>id_ex</th>\n",
       "      <th>siret</th>\n",
       "      <th>rup_mi</th>\n",
       "      <th>gestion</th>\n",
       "      <th>date_creat</th>\n",
       "      <th>date_decla</th>\n",
       "      <th>date_publi</th>\n",
       "      <th>date_disso</th>\n",
       "      <th>nature</th>\n",
       "      <th>...</th>\n",
       "      <th>maj_time</th>\n",
       "      <th>num</th>\n",
       "      <th>velo</th>\n",
       "      <th>cancer</th>\n",
       "      <th>enfant</th>\n",
       "      <th>date_creation</th>\n",
       "      <th>year</th>\n",
       "      <th>maladie</th>\n",
       "      <th>myo</th>\n",
       "      <th>year_creation</th>\n",
       "    </tr>\n",
       "  </thead>\n",
       "  <tbody>\n",
       "    <tr>\n",
       "      <th>0</th>\n",
       "      <td>W632007046</td>\n",
       "      <td>NaN</td>\n",
       "      <td>NaN</td>\n",
       "      <td>NaN</td>\n",
       "      <td>632P</td>\n",
       "      <td>2014-06-17</td>\n",
       "      <td>2015-01-21</td>\n",
       "      <td>2014-06-28</td>\n",
       "      <td>2015-01-20</td>\n",
       "      <td>D</td>\n",
       "      <td>...</td>\n",
       "      <td>2015-02-09 12:51:34</td>\n",
       "      <td>1</td>\n",
       "      <td>0.0</td>\n",
       "      <td>0.0</td>\n",
       "      <td>0.0</td>\n",
       "      <td>2014-06-17</td>\n",
       "      <td>2014.0</td>\n",
       "      <td>0.0</td>\n",
       "      <td>0.0</td>\n",
       "      <td>2014.0</td>\n",
       "    </tr>\n",
       "    <tr>\n",
       "      <th>1</th>\n",
       "      <td>W012000002</td>\n",
       "      <td>2/08825</td>\n",
       "      <td>NaN</td>\n",
       "      <td>NaN</td>\n",
       "      <td>691P</td>\n",
       "      <td>1983-10-10</td>\n",
       "      <td>2004-03-11</td>\n",
       "      <td>0001-01-01</td>\n",
       "      <td>0001-01-01</td>\n",
       "      <td>D</td>\n",
       "      <td>...</td>\n",
       "      <td>2008-02-12 14:40:18</td>\n",
       "      <td>1</td>\n",
       "      <td>0.0</td>\n",
       "      <td>0.0</td>\n",
       "      <td>0.0</td>\n",
       "      <td>1983-10-10</td>\n",
       "      <td>1983.0</td>\n",
       "      <td>0.0</td>\n",
       "      <td>0.0</td>\n",
       "      <td>1983.0</td>\n",
       "    </tr>\n",
       "    <tr>\n",
       "      <th>2</th>\n",
       "      <td>W012000005</td>\n",
       "      <td>0012011852</td>\n",
       "      <td>NaN</td>\n",
       "      <td>NaN</td>\n",
       "      <td>691P</td>\n",
       "      <td>2003-09-01</td>\n",
       "      <td>2005-01-25</td>\n",
       "      <td>0001-01-01</td>\n",
       "      <td>0001-01-01</td>\n",
       "      <td>D</td>\n",
       "      <td>...</td>\n",
       "      <td>2007-04-05 09:41:02</td>\n",
       "      <td>1</td>\n",
       "      <td>0.0</td>\n",
       "      <td>0.0</td>\n",
       "      <td>0.0</td>\n",
       "      <td>2003-09-01</td>\n",
       "      <td>2003.0</td>\n",
       "      <td>0.0</td>\n",
       "      <td>0.0</td>\n",
       "      <td>2003.0</td>\n",
       "    </tr>\n",
       "    <tr>\n",
       "      <th>3</th>\n",
       "      <td>W012000006</td>\n",
       "      <td>0012010354</td>\n",
       "      <td>NaN</td>\n",
       "      <td>NaN</td>\n",
       "      <td>691P</td>\n",
       "      <td>1999-02-11</td>\n",
       "      <td>2008-03-26</td>\n",
       "      <td>0001-01-01</td>\n",
       "      <td>2008-02-27</td>\n",
       "      <td>D</td>\n",
       "      <td>...</td>\n",
       "      <td>2008-07-11 16:17:06</td>\n",
       "      <td>1</td>\n",
       "      <td>0.0</td>\n",
       "      <td>0.0</td>\n",
       "      <td>0.0</td>\n",
       "      <td>1999-02-11</td>\n",
       "      <td>1999.0</td>\n",
       "      <td>0.0</td>\n",
       "      <td>0.0</td>\n",
       "      <td>1999.0</td>\n",
       "    </tr>\n",
       "    <tr>\n",
       "      <th>4</th>\n",
       "      <td>W033002617</td>\n",
       "      <td>NaN</td>\n",
       "      <td>NaN</td>\n",
       "      <td>NaN</td>\n",
       "      <td>033S</td>\n",
       "      <td>2008-05-19</td>\n",
       "      <td>2008-08-12</td>\n",
       "      <td>2008-05-31</td>\n",
       "      <td>0001-01-01</td>\n",
       "      <td>D</td>\n",
       "      <td>...</td>\n",
       "      <td>2008-08-14 10:56:23</td>\n",
       "      <td>1</td>\n",
       "      <td>0.0</td>\n",
       "      <td>0.0</td>\n",
       "      <td>0.0</td>\n",
       "      <td>2008-05-19</td>\n",
       "      <td>2008.0</td>\n",
       "      <td>0.0</td>\n",
       "      <td>0.0</td>\n",
       "      <td>2008.0</td>\n",
       "    </tr>\n",
       "    <tr>\n",
       "      <th>5</th>\n",
       "      <td>W423003687</td>\n",
       "      <td>NaN</td>\n",
       "      <td>NaN</td>\n",
       "      <td>NaN</td>\n",
       "      <td>423P</td>\n",
       "      <td>2008-07-02</td>\n",
       "      <td>2008-07-02</td>\n",
       "      <td>2008-07-19</td>\n",
       "      <td>0001-01-01</td>\n",
       "      <td>D</td>\n",
       "      <td>...</td>\n",
       "      <td>2008-08-14 10:52:33</td>\n",
       "      <td>1</td>\n",
       "      <td>0.0</td>\n",
       "      <td>0.0</td>\n",
       "      <td>0.0</td>\n",
       "      <td>2008-07-02</td>\n",
       "      <td>2008.0</td>\n",
       "      <td>0.0</td>\n",
       "      <td>0.0</td>\n",
       "      <td>2008.0</td>\n",
       "    </tr>\n",
       "    <tr>\n",
       "      <th>6</th>\n",
       "      <td>W441001349</td>\n",
       "      <td>NaN</td>\n",
       "      <td>NaN</td>\n",
       "      <td>NaN</td>\n",
       "      <td>441S</td>\n",
       "      <td>2012-03-29</td>\n",
       "      <td>2012-03-29</td>\n",
       "      <td>2012-04-07</td>\n",
       "      <td>0001-01-01</td>\n",
       "      <td>D</td>\n",
       "      <td>...</td>\n",
       "      <td>2012-04-07 12:46:15</td>\n",
       "      <td>1</td>\n",
       "      <td>0.0</td>\n",
       "      <td>0.0</td>\n",
       "      <td>0.0</td>\n",
       "      <td>2012-03-29</td>\n",
       "      <td>2012.0</td>\n",
       "      <td>0.0</td>\n",
       "      <td>0.0</td>\n",
       "      <td>2012.0</td>\n",
       "    </tr>\n",
       "    <tr>\n",
       "      <th>7</th>\n",
       "      <td>W012000017</td>\n",
       "      <td>0012012493</td>\n",
       "      <td>NaN</td>\n",
       "      <td>NaN</td>\n",
       "      <td>691P</td>\n",
       "      <td>2005-07-01</td>\n",
       "      <td>2006-09-27</td>\n",
       "      <td>1901-07-01</td>\n",
       "      <td>2006-09-18</td>\n",
       "      <td>D</td>\n",
       "      <td>...</td>\n",
       "      <td>2007-04-03 18:33:35</td>\n",
       "      <td>1</td>\n",
       "      <td>0.0</td>\n",
       "      <td>0.0</td>\n",
       "      <td>0.0</td>\n",
       "      <td>2005-07-01</td>\n",
       "      <td>2005.0</td>\n",
       "      <td>0.0</td>\n",
       "      <td>0.0</td>\n",
       "      <td>2005.0</td>\n",
       "    </tr>\n",
       "    <tr>\n",
       "      <th>8</th>\n",
       "      <td>W9P1000550</td>\n",
       "      <td>NaN</td>\n",
       "      <td>NaN</td>\n",
       "      <td>NaN</td>\n",
       "      <td>9P1P</td>\n",
       "      <td>2016-04-15</td>\n",
       "      <td>2016-04-15</td>\n",
       "      <td>0001-01-01</td>\n",
       "      <td>0001-01-01</td>\n",
       "      <td>D</td>\n",
       "      <td>...</td>\n",
       "      <td>2016-10-15 20:00:01</td>\n",
       "      <td>1</td>\n",
       "      <td>0.0</td>\n",
       "      <td>0.0</td>\n",
       "      <td>0.0</td>\n",
       "      <td>2016-04-15</td>\n",
       "      <td>2016.0</td>\n",
       "      <td>0.0</td>\n",
       "      <td>0.0</td>\n",
       "      <td>2016.0</td>\n",
       "    </tr>\n",
       "    <tr>\n",
       "      <th>9</th>\n",
       "      <td>W881003828</td>\n",
       "      <td>7778</td>\n",
       "      <td>NaN</td>\n",
       "      <td>NaN</td>\n",
       "      <td>881P</td>\n",
       "      <td>1977-06-07</td>\n",
       "      <td>2016-04-18</td>\n",
       "      <td>1977-06-19</td>\n",
       "      <td>0001-01-01</td>\n",
       "      <td>D</td>\n",
       "      <td>...</td>\n",
       "      <td>2016-04-18 15:30:56</td>\n",
       "      <td>1</td>\n",
       "      <td>0.0</td>\n",
       "      <td>0.0</td>\n",
       "      <td>0.0</td>\n",
       "      <td>1977-06-07</td>\n",
       "      <td>1977.0</td>\n",
       "      <td>0.0</td>\n",
       "      <td>0.0</td>\n",
       "      <td>1977.0</td>\n",
       "    </tr>\n",
       "  </tbody>\n",
       "</table>\n",
       "<p>10 rows × 50 columns</p>\n",
       "</div>"
      ],
      "text/plain": [
       "           id       id_ex siret rup_mi gestion  date_creat  date_decla  \\\n",
       "0  W632007046         NaN   NaN    NaN    632P  2014-06-17  2015-01-21   \n",
       "1  W012000002     2/08825   NaN    NaN    691P  1983-10-10  2004-03-11   \n",
       "2  W012000005  0012011852   NaN    NaN    691P  2003-09-01  2005-01-25   \n",
       "3  W012000006  0012010354   NaN    NaN    691P  1999-02-11  2008-03-26   \n",
       "4  W033002617         NaN   NaN    NaN    033S  2008-05-19  2008-08-12   \n",
       "5  W423003687         NaN   NaN    NaN    423P  2008-07-02  2008-07-02   \n",
       "6  W441001349         NaN   NaN    NaN    441S  2012-03-29  2012-03-29   \n",
       "7  W012000017  0012012493   NaN    NaN    691P  2005-07-01  2006-09-27   \n",
       "8  W9P1000550         NaN   NaN    NaN    9P1P  2016-04-15  2016-04-15   \n",
       "9  W881003828        7778   NaN    NaN    881P  1977-06-07  2016-04-18   \n",
       "\n",
       "   date_publi  date_disso nature      ...                  maj_time num velo  \\\n",
       "0  2014-06-28  2015-01-20      D      ...       2015-02-09 12:51:34   1  0.0   \n",
       "1  0001-01-01  0001-01-01      D      ...       2008-02-12 14:40:18   1  0.0   \n",
       "2  0001-01-01  0001-01-01      D      ...       2007-04-05 09:41:02   1  0.0   \n",
       "3  0001-01-01  2008-02-27      D      ...       2008-07-11 16:17:06   1  0.0   \n",
       "4  2008-05-31  0001-01-01      D      ...       2008-08-14 10:56:23   1  0.0   \n",
       "5  2008-07-19  0001-01-01      D      ...       2008-08-14 10:52:33   1  0.0   \n",
       "6  2012-04-07  0001-01-01      D      ...       2012-04-07 12:46:15   1  0.0   \n",
       "7  1901-07-01  2006-09-18      D      ...       2007-04-03 18:33:35   1  0.0   \n",
       "8  0001-01-01  0001-01-01      D      ...       2016-10-15 20:00:01   1  0.0   \n",
       "9  1977-06-19  0001-01-01      D      ...       2016-04-18 15:30:56   1  0.0   \n",
       "\n",
       "  cancer enfant date_creation    year maladie  myo year_creation  \n",
       "0    0.0    0.0    2014-06-17  2014.0     0.0  0.0        2014.0  \n",
       "1    0.0    0.0    1983-10-10  1983.0     0.0  0.0        1983.0  \n",
       "2    0.0    0.0    2003-09-01  2003.0     0.0  0.0        2003.0  \n",
       "3    0.0    0.0    1999-02-11  1999.0     0.0  0.0        1999.0  \n",
       "4    0.0    0.0    2008-05-19  2008.0     0.0  0.0        2008.0  \n",
       "5    0.0    0.0    2008-07-02  2008.0     0.0  0.0        2008.0  \n",
       "6    0.0    0.0    2012-03-29  2012.0     0.0  0.0        2012.0  \n",
       "7    0.0    0.0    2005-07-01  2005.0     0.0  0.0        2005.0  \n",
       "8    0.0    0.0    2016-04-15  2016.0     0.0  0.0        2016.0  \n",
       "9    0.0    0.0    1977-06-07  1977.0     0.0  0.0        1977.0  \n",
       "\n",
       "[10 rows x 50 columns]"
      ]
     },
     "execution_count": 70,
     "metadata": {},
     "output_type": "execute_result"
    }
   ],
   "source": [
    "data[0:10]"
   ]
  },
  {
   "cell_type": "markdown",
   "metadata": {},
   "source": [
    "Recodage de variables"
   ]
  },
  {
   "cell_type": "code",
   "execution_count": 50,
   "metadata": {},
   "outputs": [],
   "source": [
    "data['date_creation'] = pd.to_datetime(data['date_creat'],errors='coerce')\n",
    "data['year_creation'] = data['date_creation'].apply(lambda x : x.year)\n",
    "data['date_decla'] = pd.to_datetime(data['date_decla'],errors='coerce')\n",
    "data[\"year_decla\"] = data[\"date_decla\"].apply(lambda x : x.year)\n",
    "data['date_disso'] = pd.to_datetime(data['date_disso'],errors='coerce')\n",
    "data[\"year_disso\"] = data[\"date_disso\"].apply(lambda x : x.year)\n",
    "data[\"num\"]=1\n",
    "\n",
    "def duree(x):\n",
    "    if pd.notnull(x[\"year_disso\"]):\n",
    "        return x[\"year_disso\"]-x['year_creation']\n",
    "    return 2018-x['year_creation']\n",
    "data[\"duree\"] = data.apply(duree,axis=1)\n",
    "data[data[\"duree\"]<0]=None"
   ]
  },
  {
   "cell_type": "markdown",
   "metadata": {},
   "source": [
    "Identifier des mots clés dans le descriptif"
   ]
  },
  {
   "cell_type": "code",
   "execution_count": 47,
   "metadata": {
    "collapsed": true
   },
   "outputs": [],
   "source": [
    "def reco(x,u):\n",
    "    if pd.isnull(x):\n",
    "        return None\n",
    "    if u in x:\n",
    "        return 1\n",
    "    return 0\n",
    "\n",
    "data[\"velo\"] = data[\"objet\"].apply(lambda x : reco(x,\"vélos\"))\n",
    "data[\"cancer\"] = data[\"objet\"].apply(lambda x : reco(x,\"cancer\"))\n",
    "data[\"enfant\"] = data[\"objet\"].apply(lambda x : reco(x,\"enfant\"))"
   ]
  },
  {
   "cell_type": "markdown",
   "metadata": {},
   "source": [
    "Création de variables indicatrices"
   ]
  },
  {
   "cell_type": "code",
   "execution_count": 118,
   "metadata": {},
   "outputs": [],
   "source": [
    "data[\"indic_cancerenfant\"] = (data[\"enfant\"]==1) & (data[\"cancer\"]==1)\n",
    "data[\"indic_cancer\"] = (data[\"cancer\"]==1)\n",
    "def cod(x):\n",
    "    if x[\"indic_cancerenfant\"]:\n",
    "        return \"Enfant\"\n",
    "    elif x[\"indic_cancer\"]:\n",
    "        return \"Cancer\"\n",
    "    return \"Autre\"\n",
    "data[\"type_cancer\"] = data.apply(cod,axis=1)"
   ]
  },
  {
   "cell_type": "markdown",
   "metadata": {},
   "source": [
    "## Analyses"
   ]
  },
  {
   "cell_type": "markdown",
   "metadata": {},
   "source": [
    "### Quel âge ont les associations françaises (jusqu'à maintenant ou à leur dissolution) ?"
   ]
  },
  {
   "cell_type": "markdown",
   "metadata": {},
   "source": [
    "Toutes les associations"
   ]
  },
  {
   "cell_type": "code",
   "execution_count": 97,
   "metadata": {},
   "outputs": [
    {
     "data": {
      "text/plain": [
       "(0, 150)"
      ]
     },
     "execution_count": 97,
     "metadata": {},
     "output_type": "execute_result"
    },
    {
     "data": {
      "image/png": "[encoded data removed]",
      "text/plain": [
       "<Figure size 432x288 with 1 Axes>"
      ]
     },
     "metadata": {},
     "output_type": "display_data"
    }
   ],
   "source": [
    "data[\"duree\"].hist(bins=100)\n",
    "plt.title(\"Durée d'existence des associations françaises\")\n",
    "plt.xlabel(\"Année\")\n",
    "plt.ylabel(\"Nombre d'associations\")\n",
    "plt.xlim(0,150)"
   ]
  },
  {
   "cell_type": "code",
   "execution_count": 151,
   "metadata": {},
   "outputs": [
    {
     "data": {
      "text/plain": [
       "Text(0,0.5,\"Nombre d'associations\")"
      ]
     },
     "execution_count": 151,
     "metadata": {},
     "output_type": "execute_result"
    },
    {
     "data": {
      "image/png": "[encoded data removed]",
      "text/plain": [
       "<Figure size 360x360 with 1 Axes>"
      ]
     },
     "metadata": {},
     "output_type": "display_data"
    }
   ],
   "source": [
    "data.boxplot(column=[\"duree\"], by=\"type_cancer\",figsize=(5,5))\n",
    "#.hist(bins=50,normed=True,alpha=0.5)\n",
    "plt.title(\"Durée d'existence des associations françaises\")\n",
    "plt.xlabel(\"Année\")\n",
    "plt.ylabel(\"Nombre d'associations\")\n"
   ]
  },
  {
   "cell_type": "code",
   "execution_count": 140,
   "metadata": {},
   "outputs": [
    {
     "data": {
      "text/html": [
       "<div>\n",
       "<style scoped>\n",
       "    .dataframe tbody tr th:only-of-type {\n",
       "        vertical-align: middle;\n",
       "    }\n",
       "\n",
       "    .dataframe tbody tr th {\n",
       "        vertical-align: top;\n",
       "    }\n",
       "\n",
       "    .dataframe thead th {\n",
       "        text-align: right;\n",
       "    }\n",
       "</style>\n",
       "<table border=\"1\" class=\"dataframe\">\n",
       "  <thead>\n",
       "    <tr style=\"text-align: right;\">\n",
       "      <th></th>\n",
       "      <th>mean</th>\n",
       "      <th>median</th>\n",
       "      <th>std</th>\n",
       "    </tr>\n",
       "    <tr>\n",
       "      <th>type_cancer</th>\n",
       "      <th></th>\n",
       "      <th></th>\n",
       "      <th></th>\n",
       "    </tr>\n",
       "  </thead>\n",
       "  <tbody>\n",
       "    <tr>\n",
       "      <th>Autre</th>\n",
       "      <td>18.367231</td>\n",
       "      <td>12.0</td>\n",
       "      <td>18.757541</td>\n",
       "    </tr>\n",
       "    <tr>\n",
       "      <th>Cancer</th>\n",
       "      <td>11.265369</td>\n",
       "      <td>7.0</td>\n",
       "      <td>14.106655</td>\n",
       "    </tr>\n",
       "    <tr>\n",
       "      <th>Enfant</th>\n",
       "      <td>7.333333</td>\n",
       "      <td>5.0</td>\n",
       "      <td>8.884461</td>\n",
       "    </tr>\n",
       "  </tbody>\n",
       "</table>\n",
       "</div>"
      ],
      "text/plain": [
       "                  mean  median        std\n",
       "type_cancer                              \n",
       "Autre        18.367231    12.0  18.757541\n",
       "Cancer       11.265369     7.0  14.106655\n",
       "Enfant        7.333333     5.0   8.884461"
      ]
     },
     "execution_count": 140,
     "metadata": {},
     "output_type": "execute_result"
    }
   ],
   "source": [
    "data.groupby(\"type_cancer\")[\"duree\"].agg([\"mean\",\"median\",\"std\"])"
   ]
  },
  {
   "cell_type": "markdown",
   "metadata": {},
   "source": [
    "### Qu'en est-il juste pour les associations qui sont dissoutes ?"
   ]
  },
  {
   "cell_type": "code",
   "execution_count": 150,
   "metadata": {},
   "outputs": [
    {
     "data": {
      "text/html": [
       "<div>\n",
       "<style scoped>\n",
       "    .dataframe tbody tr th:only-of-type {\n",
       "        vertical-align: middle;\n",
       "    }\n",
       "\n",
       "    .dataframe tbody tr th {\n",
       "        vertical-align: top;\n",
       "    }\n",
       "\n",
       "    .dataframe thead th {\n",
       "        text-align: right;\n",
       "    }\n",
       "</style>\n",
       "<table border=\"1\" class=\"dataframe\">\n",
       "  <thead>\n",
       "    <tr style=\"text-align: right;\">\n",
       "      <th></th>\n",
       "      <th>mean</th>\n",
       "      <th>median</th>\n",
       "      <th>std</th>\n",
       "    </tr>\n",
       "    <tr>\n",
       "      <th>type_cancer</th>\n",
       "      <th></th>\n",
       "      <th></th>\n",
       "      <th></th>\n",
       "    </tr>\n",
       "  </thead>\n",
       "  <tbody>\n",
       "    <tr>\n",
       "      <th>Autre</th>\n",
       "      <td>14.780612</td>\n",
       "      <td>9.0</td>\n",
       "      <td>16.134376</td>\n",
       "    </tr>\n",
       "    <tr>\n",
       "      <th>Cancer</th>\n",
       "      <td>10.120419</td>\n",
       "      <td>6.0</td>\n",
       "      <td>13.498193</td>\n",
       "    </tr>\n",
       "    <tr>\n",
       "      <th>Enfant</th>\n",
       "      <td>3.636364</td>\n",
       "      <td>3.0</td>\n",
       "      <td>3.407879</td>\n",
       "    </tr>\n",
       "  </tbody>\n",
       "</table>\n",
       "</div>"
      ],
      "text/plain": [
       "                  mean  median        std\n",
       "type_cancer                              \n",
       "Autre        14.780612     9.0  16.134376\n",
       "Cancer       10.120419     6.0  13.498193\n",
       "Enfant        3.636364     3.0   3.407879"
      ]
     },
     "execution_count": 150,
     "metadata": {},
     "output_type": "execute_result"
    }
   ],
   "source": [
    "data[pd.notnull(data[\"year_disso\"])].groupby(\"type_cancer\")[\"duree\"].agg([\"mean\",\"median\",\"std\"])"
   ]
  },
  {
   "cell_type": "markdown",
   "metadata": {},
   "source": [
    "Clairement les associations cancers & enfants ont une durée de vie très courte "
   ]
  },
  {
   "cell_type": "code",
   "execution_count": 149,
   "metadata": {},
   "outputs": [
    {
     "data": {
      "text/plain": [
       "Text(0,0.5,\"Nombre d'associations\")"
      ]
     },
     "execution_count": 149,
     "metadata": {},
     "output_type": "execute_result"
    },
    {
     "data": {
      "image/png": "[encoded data removed]",
      "text/plain": [
       "<Figure size 432x288 with 1 Axes>"
      ]
     },
     "metadata": {},
     "output_type": "display_data"
    }
   ],
   "source": [
    "data[pd.notnull(data[\"year_disso\"])].boxplot(column=[\"duree\"], by=\"type_cancer\")\n",
    "#.hist(bins=50,normed=True,alpha=0.5)\n",
    "plt.title(\"Durée d'existence des associations françaises\")\n",
    "plt.xlabel(\"Année\")\n",
    "plt.ylabel(\"Nombre d'associations\")\n"
   ]
  },
  {
   "cell_type": "markdown",
   "metadata": {},
   "source": [
    "### Quand ces associations ont elles été créées ?"
   ]
  },
  {
   "cell_type": "markdown",
   "metadata": {},
   "source": [
    "Année de la création"
   ]
  },
  {
   "cell_type": "code",
   "execution_count": 145,
   "metadata": {},
   "outputs": [
    {
     "data": {
      "text/plain": [
       "(1900, 2020)"
      ]
     },
     "execution_count": 145,
     "metadata": {},
     "output_type": "execute_result"
    },
    {
     "data": {
      "image/png": "[encoded data removed]",
      "text/plain": [
       "<Figure size 360x720 with 1 Axes>"
      ]
     },
     "metadata": {},
     "output_type": "display_data"
    }
   ],
   "source": [
    "data.boxplot(column=[\"year_creation\"], by=\"type_cancer\",figsize=(5,10))\n",
    "#.hist(bins=50,normed=True,alpha=0.5)\n",
    "plt.title(\"Date d'année de la création\")\n",
    "plt.ylabel(\"Année\")\n",
    "plt.ylim(1900,2020)"
   ]
  },
  {
   "cell_type": "code",
   "execution_count": 67,
   "metadata": {},
   "outputs": [
    {
     "data": {
      "text/plain": [
       "<matplotlib.axes._subplots.AxesSubplot at 0x1664ef1d0>"
      ]
     },
     "execution_count": 67,
     "metadata": {},
     "output_type": "execute_result"
    },
    {
     "data": {
      "image/png": "[encoded data removed]",
      "text/plain": [
       "<Figure size 432x288 with 1 Axes>"
      ]
     },
     "metadata": {},
     "output_type": "display_data"
    }
   ],
   "source": [
    "ax = data[(data[\"cancer\"]==1)].groupby(\"year\")[\"num\"].count().plot()\n",
    "data[(data[\"enfant\"]==1) & (data[\"cancer\"]==1)].groupby(\"year\")[\"num\"].count().plot(ax=ax)\n",
    "data[(data[\"maladie\"]==1)].groupby(\"year\")[\"num\"].count().plot(ax=ax)\n",
    "data[(data[\"myo\"]==1)].groupby(\"year\")[\"num\"].count().plot(ax=ax)"
   ]
  },
  {
   "cell_type": "markdown",
   "metadata": {},
   "source": [
    "### Intitulés"
   ]
  },
  {
   "cell_type": "code",
   "execution_count": 159,
   "metadata": {},
   "outputs": [
    {
     "data": {
      "text/plain": [
       "560        Aider les enfants pauvres d'Afrique atteints d...\n",
       "3652       Registre destine a enregistrer tous les nouvea...\n",
       "13687      Cette association a pour but d'apporter un sou...\n",
       "14357      organiser la manifestation intitulée \" la Litt...\n",
       "16372      aide à la scolarisation et à l'éducation sport...\n",
       "16642      soutenir la recherche médicale pour l'améliora...\n",
       "20154      organiser divers événements afin de récolter d...\n",
       "24780      l'association dite \"VICTOiR\" est une associati...\n",
       "29880      mobilise toutes les energies et favorise les c...\n",
       "30314      aide directe aux enfants atteints de maladies ...\n",
       "33041      aide, soutien et amélioration du bien-être aux...\n",
       "35614      récolter des fonds pour les enfants atteints d...\n",
       "38935      soutenir les familles nécessitantes de l 'aide...\n",
       "38965      favoriser la recherche sur les cancers et leuc...\n",
       "53034      venir en aide aux enfants malades et à leur fa...\n",
       "53414      création d'un village pour l'accueil et l'hébe...\n",
       "60698      organiser des consultations d aide et de souti...\n",
       "66546      De soutenir et d'adapter des actions menées pa...\n",
       "73106      bande de collègues qui se retrouvent dans les ...\n",
       "80542      apporter des aides aux enfants atteints de can...\n",
       "81454      aider les enfants hospitalisés et leurs famill...\n",
       "84708      organiser l'animation de bals pour les banquet...\n",
       "84904      la promotion et la diffusion de livre et tout ...\n",
       "92980      aide aux familles régionales dont un enfant es...\n",
       "95583      amélioerer le quotidien d'enfants atteints du ...\n",
       "98041      Témoigner sa solidarité à l'égard des enfants ...\n",
       "107363     développement des recherches scientifiques dan...\n",
       "123443     favoriser la recherche sur les cancers et leuc...\n",
       "127998     AmEliorer les conditions d'hospitalisation des...\n",
       "131528     collecter des fonds permettant d'améliorer les...\n",
       "                                 ...                        \n",
       "1550869    actions et aides dans le monde; stop à la viol...\n",
       "1555157    récolter des fonds pour faire face aux dépense...\n",
       "1558064    collecter des fonds en vue de participer au tr...\n",
       "1558519    promouvoir, soutenir et financer la recherche ...\n",
       "1564653    sensibiliser le public sur les cancers pédiatr...\n",
       "1568017    mettre en uvre toutes actions sportives ou cu...\n",
       "1568985    course à pied et randonnée : allure libre en e...\n",
       "1569013    collecter des vêtements qui seront revendus à ...\n",
       "1572269    aider les familles de la Région Corse dont les...\n",
       "1573061    Regrouper toutes personnes physiques ou morale...\n",
       "1573985    réunir des fonds qui seront versés non plus à ...\n",
       "1576811    aider les enfants, les adolescents et les adul...\n",
       "1580159    organiser et participer à des événements sport...\n",
       "1585182    fédérer les particuliers et les entreprises da...\n",
       "1585308    aide à la recherche; information sur les leucé...\n",
       "1585929    faire plaisir (cadeaux,sorties,réalisation de ...\n",
       "1587184    favoriser, développer et promouvoir toutes act...\n",
       "1588232    promouvoir l'organisation des soins et la rech...\n",
       "1588734    De favoriser la recherche et d'encourager les ...\n",
       "1589161    aider les femmes, les enfants et les jeunes en...\n",
       "1593315    mettre en place des actions, notamment ludique...\n",
       "1593357    regrouper les personnes s'interssant aux probl...\n",
       "1594493    en mémoire de Marina, l'association Aidons Mar...\n",
       "1594496    participer et organiser diverses manifestation...\n",
       "1600941    financement de projets de recherches cliniques...\n",
       "1601984    apporter des aides de toutes sortes aux enfant...\n",
       "1603553    organiser et participer à des événements sport...\n",
       "1605930    mise en place d'actions et défis sportifs de t...\n",
       "1606139    soutien des enfants / adultes malades de cance...\n",
       "1606439    récolter des fonds pour la recherche contre le...\n",
       "Name: objet, Length: 423, dtype: object"
      ]
     },
     "execution_count": 159,
     "metadata": {},
     "output_type": "execute_result"
    }
   ],
   "source": [
    "data[data[\"indic_cancerenfant\"]==1][\"objet\"]"
   ]
  }
 ],
 "metadata": {
  "kernelspec": {
   "display_name": "Python 3",
   "language": "python",
   "name": "python3"
  },
  "language_info": {
   "codemirror_mode": {
    "name": "ipython",
    "version": 3
   },
   "file_extension": ".py",
   "mimetype": "text/x-python",
   "name": "python",
   "nbconvert_exporter": "python",
   "pygments_lexer": "ipython3",
   "version": "3.5.4"
  }
 },
 "nbformat": 4,
 "nbformat_minor": 2
}
