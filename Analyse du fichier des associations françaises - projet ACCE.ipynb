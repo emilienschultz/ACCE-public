{
 "cells": [
  {
   "cell_type": "code",
   "execution_count": 8,
   "metadata": {
    "collapsed": true
   },
   "outputs": [],
   "source": [
    "%matplotlib inline\n",
    "import pandas as pd\n",
    "import numpy as np\n",
    "import matplotlib.pyplot as plt\n",
    "import matplotlib.dates as mdates\n",
    "import matplotlib.ticker as mticker"
   ]
  },
  {
   "cell_type": "markdown",
   "metadata": {},
   "source": [
    "Ce document a pour objectif d'analyser le fichier des associations disponible sur data.gouv.fr avec un focus spécifique sur les associations autour du cancer de l'enfant dans le cadre du projet ACCE (dir. Besle)\n",
    "\n",
    "https://www.data.gouv.fr/fr/datasets/repertoire-national-des-associations/\n",
    "\n",
    "https://media.interieur.gouv.fr/rna/RNA_Liste_donnees_diffusees-V2.pdf\n",
    "\n",
    "Attention : sauf dans les départements de la Moselle, du Bas-Rhin et du Haut-Rhin, qui relèvent du régime du Concordat"
   ]
  },
  {
   "cell_type": "markdown",
   "metadata": {},
   "source": [
    "Chargement du fichier"
   ]
  },
  {
   "cell_type": "code",
   "execution_count": 2,
   "metadata": {},
   "outputs": [
    {
     "name": "stderr",
     "output_type": "stream",
     "text": [
      "/Users/emilien/anaconda3/envs/p35/lib/python3.5/site-packages/IPython/core/interactiveshell.py:2698: DtypeWarning: Columns (2,3,14,15,18,23,30) have mixed types. Specify dtype option on import or set low_memory=False.\n",
      "  interactivity=interactivity, compiler=compiler, result=result)\n"
     ]
    }
   ],
   "source": [
    "data = pd.read_csv(\"../../../Downloads/rna_waldec_20180403.csv\",sep=\";\", encoding = \"ISO-8859-1\")"
   ]
  },
  {
   "cell_type": "code",
   "execution_count": 3,
   "metadata": {},
   "outputs": [
    {
     "name": "stderr",
     "output_type": "stream",
     "text": [
      "/Users/emilien/anaconda3/envs/p35/lib/python3.5/site-packages/IPython/core/interactiveshell.py:2698: DtypeWarning: Columns (2,10,15,17,19,20,21,24) have mixed types. Specify dtype option on import or set low_memory=False.\n",
      "  interactivity=interactivity, compiler=compiler, result=result)\n"
     ]
    }
   ],
   "source": [
    "data_imp = pd.read_csv(\"../../../Downloads/rna_import_20180403.csv\",sep=\";\", encoding = \"ISO-8859-1\")"
   ]
  },
  {
   "cell_type": "code",
   "execution_count": 5,
   "metadata": {},
   "outputs": [
    {
     "data": {
      "text/plain": [
       "Index(['id', 'id_ex', 'siret', 'rup_mi', 'gestion', 'date_creat', 'date_decla',\n",
       "       'date_publi', 'date_disso', 'nature', 'groupement', 'titre',\n",
       "       'titre_court', 'objet', 'objet_social1', 'objet_social2',\n",
       "       'adrs_complement', 'adrs_numvoie', 'adrs_repetition', 'adrs_typevoie',\n",
       "       'adrs_libvoie', 'adrs_distrib', 'adrs_codeinsee', 'adrs_codepostal',\n",
       "       'adrs_libcommune', 'adrg_declarant', 'adrg_complemid',\n",
       "       'adrg_complemgeo', 'adrg_libvoie', 'adrg_distrib', 'adrg_codepostal',\n",
       "       'adrg_achemine', 'adrg_pays', 'dir_civilite', 'telephone', 'siteweb',\n",
       "       'email', 'publiweb', 'observation', 'position', 'maj_time'],\n",
       "      dtype='object')"
      ]
     },
     "execution_count": 5,
     "metadata": {},
     "output_type": "execute_result"
    }
   ],
   "source": [
    "data.columns"
   ]
  },
  {
   "cell_type": "code",
   "execution_count": 69,
   "metadata": {},
   "outputs": [],
   "source": [
    "data_imp[\"objet\"] = data_imp[\"objet\"].str.lower()\n",
    "data[\"objet\"] = data[\"objet\"].str.lower()"
   ]
  },
  {
   "cell_type": "markdown",
   "metadata": {},
   "source": [
    "Recodage de variables"
   ]
  },
  {
   "cell_type": "code",
   "execution_count": 9,
   "metadata": {
    "collapsed": true
   },
   "outputs": [],
   "source": [
    "data['date_creation'] = pd.to_datetime(data['date_creat'],errors='coerce')\n",
    "data['year_creation'] = data['date_creation'].apply(lambda x : x.year)\n",
    "data['date_decla'] = pd.to_datetime(data['date_decla'],errors='coerce')\n",
    "data[\"year_decla\"] = data[\"date_decla\"].apply(lambda x : x.year)\n",
    "data['date_disso'] = pd.to_datetime(data['date_disso'],errors='coerce')\n",
    "data[\"year_disso\"] = data[\"date_disso\"].apply(lambda x : x.year)\n",
    "data[\"num\"]=1"
   ]
  },
  {
   "cell_type": "code",
   "execution_count": 101,
   "metadata": {
    "collapsed": true
   },
   "outputs": [],
   "source": [
    "def duree(x):\n",
    "    if pd.notnull(x[\"year_disso\"]):\n",
    "        return x[\"year_disso\"]-x['year_creation']\n",
    "    return None\n",
    "data[\"duree\"] = data.apply(duree,axis=1)\n",
    "data[data[\"duree\"]<0]=None"
   ]
  },
  {
   "cell_type": "code",
   "execution_count": 15,
   "metadata": {},
   "outputs": [
    {
     "data": {
      "text/plain": [
       "Index(['id', 'id_ex', 'siret', 'gestion', 'date_creat', 'date_publi', 'nature',\n",
       "       'groupement', 'titre', 'objet', 'objet_social1', 'objet_social2',\n",
       "       'adr1', 'adr2', 'adr3', 'adrs_codepostal', 'libcom', 'adrs_codeinsee',\n",
       "       'dir_civilite', 'telephone', 'siteweb', 'email', 'observation',\n",
       "       'position', 'rup_mi', 'maj_time'],\n",
       "      dtype='object')"
      ]
     },
     "execution_count": 15,
     "metadata": {},
     "output_type": "execute_result"
    }
   ],
   "source": [
    "data_imp.columns"
   ]
  },
  {
   "cell_type": "code",
   "execution_count": 60,
   "metadata": {},
   "outputs": [],
   "source": [
    "data_imp['date_creation'] = pd.to_datetime(data_imp['date_creat'],errors='coerce')\n",
    "data_imp['year_creation'] = data_imp['date_creation'].apply(lambda x : x.year)\n",
    "data_imp['date_maj'] = pd.to_datetime(data_imp['maj_time'],errors='coerce')\n",
    "data_imp['year_maj'] = data_imp['date_maj'].apply(lambda x : x.year)\n",
    "\n",
    "data_imp[\"num\"]=1"
   ]
  },
  {
   "cell_type": "code",
   "execution_count": 64,
   "metadata": {},
   "outputs": [
    {
     "data": {
      "text/plain": [
       "<matplotlib.axes._subplots.AxesSubplot at 0x19cf4a7f0>"
      ]
     },
     "execution_count": 64,
     "metadata": {},
     "output_type": "execute_result"
    },
    {
     "data": {
      "image/png": "[encoded data removed]",
      "text/plain": [
       "<Figure size 432x288 with 1 Axes>"
      ]
     },
     "metadata": {},
     "output_type": "display_data"
    }
   ],
   "source": [
    "data_imp['year_maj'].hist(bins=10)"
   ]
  },
  {
   "cell_type": "markdown",
   "metadata": {},
   "source": [
    "L'année de MAJ ne peut pas vraiment être utilisée comme date de dissolution. La seule hypothèse qu'il est possible de faire est que les associations du fichier IMP qui n'est pas dans WALD ont été dissoute avant ..."
   ]
  },
  {
   "cell_type": "code",
   "execution_count": 17,
   "metadata": {},
   "outputs": [
    {
     "data": {
      "text/plain": [
       "<matplotlib.axes._subplots.AxesSubplot at 0x1a3f03d30>"
      ]
     },
     "execution_count": 17,
     "metadata": {},
     "output_type": "execute_result"
    },
    {
     "data": {
      "image/png": "[encoded data removed]",
      "text/plain": [
       "<Figure size 432x288 with 1 Axes>"
      ]
     },
     "metadata": {},
     "output_type": "display_data"
    }
   ],
   "source": [
    "data_imp['year_maj'].hist(bins=100)"
   ]
  },
  {
   "cell_type": "code",
   "execution_count": 14,
   "metadata": {},
   "outputs": [
    {
     "data": {
      "text/plain": [
       "<matplotlib.axes._subplots.AxesSubplot at 0x1abc0eef0>"
      ]
     },
     "execution_count": 14,
     "metadata": {},
     "output_type": "execute_result"
    },
    {
     "data": {
      "image/png": "[encoded data removed]",
      "text/plain": [
       "<Figure size 432x288 with 1 Axes>"
      ]
     },
     "metadata": {},
     "output_type": "display_data"
    }
   ],
   "source": [
    "data[\"year_creation\"].hist(bins=100)"
   ]
  },
  {
   "cell_type": "markdown",
   "metadata": {},
   "source": [
    "Identifier des mots clés dans le descriptif"
   ]
  },
  {
   "cell_type": "code",
   "execution_count": 70,
   "metadata": {
    "collapsed": true
   },
   "outputs": [],
   "source": [
    "def reco(x,u):\n",
    "    if pd.isnull(x):\n",
    "        return None\n",
    "    if u in x:\n",
    "        return 1\n",
    "    return 0\n",
    "\n",
    "data[\"cancer\"] = data[\"objet\"].apply(lambda x : reco(x,\"cancer\"))\n",
    "data[\"enfant\"] = data[\"objet\"].apply(lambda x : reco(x,\"enfant\"))\n",
    "data[\"indic_cancerenfant\"] = (data[\"enfant\"]==1) & (data[\"cancer\"]==1)\n",
    "data[\"indic_cancer\"] = (data[\"cancer\"]==1)"
   ]
  },
  {
   "cell_type": "code",
   "execution_count": 71,
   "metadata": {
    "collapsed": true
   },
   "outputs": [],
   "source": [
    "data_imp[\"enfant\"] = data_imp[\"objet\"].apply(lambda x : reco(x,\"enfant\"))\n",
    "data_imp[\"cancer\"] = data_imp[\"objet\"].apply(lambda x : reco(x,\"cancer\"))\n",
    "data_imp[\"indic_cancerenfant\"] = (data_imp[\"enfant\"]==1) & (data_imp[\"cancer\"]==1)\n",
    "data_imp[\"indic_cancer\"] = (data_imp[\"cancer\"]==1)"
   ]
  },
  {
   "cell_type": "markdown",
   "metadata": {},
   "source": [
    "Création de variables indicatrices"
   ]
  },
  {
   "cell_type": "code",
   "execution_count": 76,
   "metadata": {},
   "outputs": [],
   "source": [
    "#data[\"indic_cancerenfant\"] = (data[\"enfant\"]==1) & (data[\"cancer\"]==1)\n",
    "#data[\"indic_cancer\"] = (data[\"cancer\"]==1)\n",
    "def cod(x):\n",
    "    if x[\"indic_cancerenfant\"]:\n",
    "        return \"Enfant\"\n",
    "    elif x[\"indic_cancer\"]:\n",
    "        return \"Cancer\"\n",
    "    return \"Autre\"\n",
    "data[\"type_cancer\"] = data.apply(cod,axis=1)\n"
   ]
  },
  {
   "cell_type": "code",
   "execution_count": 77,
   "metadata": {
    "collapsed": true
   },
   "outputs": [],
   "source": [
    "data_imp[\"type_cancer\"] = data_imp.apply(cod,axis=1)"
   ]
  },
  {
   "cell_type": "markdown",
   "metadata": {},
   "source": [
    "## Analyses"
   ]
  },
  {
   "cell_type": "markdown",
   "metadata": {},
   "source": [
    "### Quand ont été fondées les associations ?"
   ]
  },
  {
   "cell_type": "markdown",
   "metadata": {},
   "source": [
    "Toutes les associations\n",
    "\n",
    "Pour cela il faut travailler sur les deux jeux de données"
   ]
  },
  {
   "cell_type": "code",
   "execution_count": 100,
   "metadata": {},
   "outputs": [
    {
     "data": {
      "text/plain": [
       "(1900, 2017)"
      ]
     },
     "execution_count": 100,
     "metadata": {},
     "output_type": "execute_result"
    },
    {
     "data": {
      "image/png": "[encoded data removed]",
      "text/plain": [
       "<Figure size 432x288 with 1 Axes>"
      ]
     },
     "metadata": {},
     "output_type": "display_data"
    }
   ],
   "source": [
    "ax = data[\"year_creation\"].append(data_imp[\"year_creation\"]).hist(bins=50)\n",
    "data[\"year_creation\"].hist(bins=50,ax=ax,alpha=0.5)\n",
    "\n",
    "plt.xlim(1900,2017)"
   ]
  },
  {
   "cell_type": "code",
   "execution_count": 114,
   "metadata": {},
   "outputs": [],
   "source": [
    "t = data[[\"year_creation\",\"type_cancer\"]].append(data_imp[[\"year_creation\",\"type_cancer\"]])"
   ]
  },
  {
   "cell_type": "code",
   "execution_count": 119,
   "metadata": {},
   "outputs": [
    {
     "name": "stderr",
     "output_type": "stream",
     "text": [
      "/Users/emilien/anaconda3/envs/p35/lib/python3.5/site-packages/matplotlib/axes/_axes.py:6462: UserWarning: The 'normed' kwarg is deprecated, and has been replaced by the 'density' kwarg.\n",
      "  warnings.warn(\"The 'normed' kwarg is deprecated, and has been \"\n"
     ]
    },
    {
     "data": {
      "text/plain": [
       "type_cancer\n",
       "Autre     AxesSubplot(0.125,0.125;0.775x0.755)\n",
       "Cancer    AxesSubplot(0.125,0.125;0.775x0.755)\n",
       "Enfant    AxesSubplot(0.125,0.125;0.775x0.755)\n",
       "Name: year_creation, dtype: object"
      ]
     },
     "execution_count": 119,
     "metadata": {},
     "output_type": "execute_result"
    },
    {
     "data": {
      "image/png": "[encoded data removed]",
      "text/plain": [
       "<Figure size 432x288 with 1 Axes>"
      ]
     },
     "metadata": {},
     "output_type": "display_data"
    }
   ],
   "source": [
    "t.groupby(\"type_cancer\")[\"year_creation\"].hist(alpha=0.3,normed=True,bins=range(1900,2017))"
   ]
  },
  {
   "cell_type": "code",
   "execution_count": 121,
   "metadata": {},
   "outputs": [
    {
     "data": {
      "text/html": [
       "<div>\n",
       "<style scoped>\n",
       "    .dataframe tbody tr th:only-of-type {\n",
       "        vertical-align: middle;\n",
       "    }\n",
       "\n",
       "    .dataframe tbody tr th {\n",
       "        vertical-align: top;\n",
       "    }\n",
       "\n",
       "    .dataframe thead th {\n",
       "        text-align: right;\n",
       "    }\n",
       "</style>\n",
       "<table border=\"1\" class=\"dataframe\">\n",
       "  <thead>\n",
       "    <tr style=\"text-align: right;\">\n",
       "      <th></th>\n",
       "      <th>count</th>\n",
       "      <th>mean</th>\n",
       "      <th>median</th>\n",
       "    </tr>\n",
       "    <tr>\n",
       "      <th>type_cancer</th>\n",
       "      <th></th>\n",
       "      <th></th>\n",
       "      <th></th>\n",
       "    </tr>\n",
       "  </thead>\n",
       "  <tbody>\n",
       "    <tr>\n",
       "      <th>Autre</th>\n",
       "      <td>2257935</td>\n",
       "      <td>1997.474410</td>\n",
       "      <td>2002.0</td>\n",
       "    </tr>\n",
       "    <tr>\n",
       "      <th>Cancer</th>\n",
       "      <td>2467</td>\n",
       "      <td>2004.517633</td>\n",
       "      <td>2008.0</td>\n",
       "    </tr>\n",
       "    <tr>\n",
       "      <th>Enfant</th>\n",
       "      <td>511</td>\n",
       "      <td>2009.461840</td>\n",
       "      <td>2012.0</td>\n",
       "    </tr>\n",
       "  </tbody>\n",
       "</table>\n",
       "</div>"
      ],
      "text/plain": [
       "               count         mean  median\n",
       "type_cancer                              \n",
       "Autre        2257935  1997.474410  2002.0\n",
       "Cancer          2467  2004.517633  2008.0\n",
       "Enfant           511  2009.461840  2012.0"
      ]
     },
     "execution_count": 121,
     "metadata": {},
     "output_type": "execute_result"
    }
   ],
   "source": [
    "t.groupby(\"type_cancer\")[\"year_creation\"].agg([\"count\",\"mean\",\"median\"])"
   ]
  },
  {
   "cell_type": "code",
   "execution_count": 134,
   "metadata": {},
   "outputs": [
    {
     "data": {
      "text/plain": [
       "Text(0.5,0,'Année')"
      ]
     },
     "execution_count": 134,
     "metadata": {},
     "output_type": "execute_result"
    },
    {
     "data": {
      "image/png": "[encoded data removed]",
      "text/plain": [
       "<Figure size 720x360 with 1 Axes>"
      ]
     },
     "metadata": {},
     "output_type": "display_data"
    }
   ],
   "source": [
    "ax = t[t[\"type_cancer\"]==\"Cancer\"][\"year_creation\"].value_counts().sort_index().plot(style=\".:\",figsize=(10,5))\n",
    "t[t[\"type_cancer\"]==\"Enfant\"][\"year_creation\"].value_counts().sort_index().plot(ax=ax,style=\".-\")\n",
    "plt.legend([\"Associations Cancer\",\"Associations Cancer Enfant\"])\n",
    "plt.title(\"Date de création des associations avec comme objet le cancer (Données RNA)\")\n",
    "plt.ylabel(\"Nombre d'associations par an\")\n",
    "plt.xlabel(\"Année\")"
   ]
  },
  {
   "cell_type": "markdown",
   "metadata": {},
   "source": [
    "### Quel âge ont les associations françaises (jusqu'à maintenant ou à leur dissolution) ?"
   ]
  },
  {
   "cell_type": "code",
   "execution_count": 102,
   "metadata": {},
   "outputs": [
    {
     "data": {
      "text/plain": [
       "(0, 150)"
      ]
     },
     "execution_count": 102,
     "metadata": {},
     "output_type": "execute_result"
    },
    {
     "data": {
      "image/png": "[encoded data removed]",
      "text/plain": [
       "<Figure size 432x288 with 1 Axes>"
      ]
     },
     "metadata": {},
     "output_type": "display_data"
    }
   ],
   "source": [
    "data[\"duree\"].hist(bins=100)\n",
    "plt.title(\"Durée d'existence des associations françaises\")\n",
    "plt.xlabel(\"Année\")\n",
    "plt.ylabel(\"Nombre d'associations\")\n",
    "plt.xlim(0,150)"
   ]
  },
  {
   "cell_type": "code",
   "execution_count": 103,
   "metadata": {},
   "outputs": [
    {
     "data": {
      "text/plain": [
       "Text(0,0.5,\"Nombre d'associations\")"
      ]
     },
     "execution_count": 103,
     "metadata": {},
     "output_type": "execute_result"
    },
    {
     "data": {
      "image/png": "[encoded data removed]",
      "text/plain": [
       "<Figure size 360x360 with 1 Axes>"
      ]
     },
     "metadata": {},
     "output_type": "display_data"
    }
   ],
   "source": [
    "data[data[\"year_creation\"]>2009].boxplot(column=[\"duree\"], by=\"type_cancer\",figsize=(5,5))\n",
    "#.hist(bins=50,normed=True,alpha=0.5)\n",
    "plt.title(\"Durée d'existence des associations françaises\")\n",
    "plt.xlabel(\"Année\")\n",
    "plt.ylabel(\"Nombre d'associations\")\n"
   ]
  },
  {
   "cell_type": "code",
   "execution_count": 105,
   "metadata": {},
   "outputs": [
    {
     "data": {
      "text/html": [
       "<div>\n",
       "<style scoped>\n",
       "    .dataframe tbody tr th:only-of-type {\n",
       "        vertical-align: middle;\n",
       "    }\n",
       "\n",
       "    .dataframe tbody tr th {\n",
       "        vertical-align: top;\n",
       "    }\n",
       "\n",
       "    .dataframe thead th {\n",
       "        text-align: right;\n",
       "    }\n",
       "</style>\n",
       "<table border=\"1\" class=\"dataframe\">\n",
       "  <thead>\n",
       "    <tr style=\"text-align: right;\">\n",
       "      <th></th>\n",
       "      <th>count</th>\n",
       "      <th>mean</th>\n",
       "      <th>median</th>\n",
       "      <th>std</th>\n",
       "    </tr>\n",
       "    <tr>\n",
       "      <th>type_cancer</th>\n",
       "      <th></th>\n",
       "      <th></th>\n",
       "      <th></th>\n",
       "      <th></th>\n",
       "    </tr>\n",
       "  </thead>\n",
       "  <tbody>\n",
       "    <tr>\n",
       "      <th>Autre</th>\n",
       "      <td>169684</td>\n",
       "      <td>14.781400</td>\n",
       "      <td>9.0</td>\n",
       "      <td>16.134823</td>\n",
       "    </tr>\n",
       "    <tr>\n",
       "      <th>Cancer</th>\n",
       "      <td>208</td>\n",
       "      <td>10.043269</td>\n",
       "      <td>6.0</td>\n",
       "      <td>13.254224</td>\n",
       "    </tr>\n",
       "    <tr>\n",
       "      <th>Enfant</th>\n",
       "      <td>36</td>\n",
       "      <td>3.500000</td>\n",
       "      <td>2.5</td>\n",
       "      <td>3.299351</td>\n",
       "    </tr>\n",
       "  </tbody>\n",
       "</table>\n",
       "</div>"
      ],
      "text/plain": [
       "              count       mean  median        std\n",
       "type_cancer                                      \n",
       "Autre        169684  14.781400     9.0  16.134823\n",
       "Cancer          208  10.043269     6.0  13.254224\n",
       "Enfant           36   3.500000     2.5   3.299351"
      ]
     },
     "execution_count": 105,
     "metadata": {},
     "output_type": "execute_result"
    }
   ],
   "source": [
    "data.groupby(\"type_cancer\")[\"duree\"].agg([\"count\",\"mean\",\"median\",\"std\"])"
   ]
  },
  {
   "cell_type": "markdown",
   "metadata": {},
   "source": [
    "### Intitulés"
   ]
  },
  {
   "cell_type": "code",
   "execution_count": 110,
   "metadata": {},
   "outputs": [
    {
     "data": {
      "text/plain": [
       "35636      ade matérielle ou psychologique destinée aux e...\n",
       "45579      soutenir le développement de la recherche sur ...\n",
       "65436      récolter des fonds pour améliorer les conditio...\n",
       "132441     venir en aide aux enfants handicapes de quelqu...\n",
       "138493     d'apporter une aide financière et morale dans ...\n",
       "161995     aider les parents dans la terrible epreuve du ...\n",
       "162070     aider les parents en difficulte financiere fac...\n",
       "172860     buts humanitaires. activites au profit d'enfan...\n",
       "197877     actions de solidarité bénévoles pr aider a la ...\n",
       "198791     assurer la coordination,les démarches de finan...\n",
       "206900     sensibilisation du grand public au problème du...\n",
       "214229     favoriser l'accueil d'enfants malades atteints...\n",
       "243703     aide morale et pécuniaire aux familles d'enfan...\n",
       "275183     comite d'accueil pour enfants etrangers ou iso...\n",
       "343308     accompagner les enfants malades de toutes orig...\n",
       "369140     récolter de l'argent pour l'achat d'une pompe ...\n",
       "397969     aide aux enfants malades - maladies graves, ca...\n",
       "470315     proposer des activites sportives a des enfants...\n",
       "488781     developper la creativite en peignant sur tous ...\n",
       "488783     apporter aide aux soins d'un enfant atteint d'...\n",
       "534572               lutte contre le cancer chez les enfants\n",
       "543275     ameliorer la qualite de vie d'enfants, d'adole...\n",
       "544981     sensibiliser la pratique du football aux enfan...\n",
       "547067     réaliser les rêves de nicolas, enfant atteint ...\n",
       "560166     aide aux enfants atteints de cancer ou de leuc...\n",
       "700724     accompagnement et soutien des parents dont les...\n",
       "704692     récolter de l'argent pour l'achat d'une pompe ...\n",
       "705758     aider et soutenir les enfants et toutes person...\n",
       "720032     ameliorer vie & traitement.diffuser infos & en...\n",
       "742888     location d'1 appt. pour l'hebergement des fami...\n",
       "                                 ...                        \n",
       "939741     organisation de toute manifestation (sportive,...\n",
       "980746     organisation d'une marche ' la seyne/paris' da...\n",
       "1007788    regrouper toutes personnes physiques et morale...\n",
       "1009541    faire des animations loto jeux de cartes à tit...\n",
       "1043130    favoriser l'acces de la pratique touristique e...\n",
       "1050719    realiser les reves d'enfants hospitalises, att...\n",
       "1060626    activite de lutte contre les cancers de l'enfa...\n",
       "1075265    1°) une recherche de fonds qui seront portes â...\n",
       "1079079    venir en aide aux enfants démunis, abandonnés,...\n",
       "1082566    garde de personnes âgées, assistance et visite...\n",
       "1106081    organise, dirige et anime par des malades canc...\n",
       "1121453    organiser la participation d'olivier forti à d...\n",
       "1125952    aide aux enfants a mieux vivre les soins hospi...\n",
       "1126041    aider l'enfance malheureuse (enfants malades, ...\n",
       "1136553    regrouper toutes personnes physiques et morale...\n",
       "1139921    association pour le soutien aux enfants attein...\n",
       "1148005    appoorter un aide financière aux parents d'enf...\n",
       "1185627    venir en aide a des femmes enceintes confronte...\n",
       "1197210    animer et organiser diverses manifestations da...\n",
       "1198675    a pour objet d'aider tous les paures, les arti...\n",
       "1201770    collationner, tenir à jour et relayer toutes i...\n",
       "1230928              lutter contre les cancers chez l'enfant\n",
       "1233285    aider les enfants atteints de cancers ou de le...\n",
       "1245274    aide et assistance aux familles d'enfants mine...\n",
       "1248543    cette association a pour but d'organiser diffe...\n",
       "1256940                aider les enfants atteints du cancer.\n",
       "1268993    realiser les reves d enfants malades atteints ...\n",
       "1282051    association privée, culturelle, à but caritati...\n",
       "1298599    assistance bienfaisance aux enfants et aux per...\n",
       "1299901    enfants malades, enfants maltraites - la myopa...\n",
       "Name: objet, Length: 71, dtype: object"
      ]
     },
     "execution_count": 110,
     "metadata": {},
     "output_type": "execute_result"
    }
   ],
   "source": [
    "data_imp[data_imp[\"indic_cancerenfant\"]==1][\"objet\"]"
   ]
  },
  {
   "cell_type": "code",
   "execution_count": 111,
   "metadata": {},
   "outputs": [
    {
     "data": {
      "text/plain": [
       "560        aider les enfants pauvres d'afrique atteints d...\n",
       "3652       registre destine a enregistrer tous les nouvea...\n",
       "13687      cette association a pour but d'apporter un sou...\n",
       "14357      organiser la manifestation intitulée \" la litt...\n",
       "16372      aide à la scolarisation et à l'éducation sport...\n",
       "16642      soutenir la recherche médicale pour l'améliora...\n",
       "20154      organiser divers événements afin de récolter d...\n",
       "24780      l'association dite \"victoir\" est une associati...\n",
       "27446      defendre l'alternative therapeutique qu'offre ...\n",
       "29880      mobilise toutes les energies et favorise les c...\n",
       "30314      aide directe aux enfants atteints de maladies ...\n",
       "33041      aide, soutien et amélioration du bien-être aux...\n",
       "35614      récolter des fonds pour les enfants atteints d...\n",
       "38935      soutenir les familles nécessitantes de l 'aide...\n",
       "38965      favoriser la recherche sur les cancers et leuc...\n",
       "52966      donner une aide morale materielle et financier...\n",
       "53034      venir en aide aux enfants malades et à leur fa...\n",
       "53414      création d'un village pour l'accueil et l'hébe...\n",
       "60698      organiser des consultations d aide et de souti...\n",
       "66546      de soutenir et d'adapter des actions menées pa...\n",
       "73106      bande de collègues qui se retrouvent dans les ...\n",
       "75417      ayant pour but d'aider l'enfance malheureuse (...\n",
       "80542      apporter des aides aux enfants atteints de can...\n",
       "81454      aider les enfants hospitalisés et leurs famill...\n",
       "84708      organiser l'animation de bals pour les banquet...\n",
       "84904      la promotion et la diffusion de livre et tout ...\n",
       "92980      aide aux familles régionales dont un enfant es...\n",
       "95583      amélioerer le quotidien d'enfants atteints du ...\n",
       "98041      témoigner sa solidarité à l'égard des enfants ...\n",
       "107363     développement des recherches scientifiques dan...\n",
       "                                 ...                        \n",
       "1558519    promouvoir, soutenir et financer la recherche ...\n",
       "1559345    la participation au raid \"trophée roses des sa...\n",
       "1564653    sensibiliser le public sur les cancers pédiatr...\n",
       "1565680    permettre l'organisation logistique et financi...\n",
       "1568017    mettre en uvre toutes actions sportives ou cu...\n",
       "1568985    course à pied et randonnée : allure libre en e...\n",
       "1569013    collecter des vêtements qui seront revendus à ...\n",
       "1572269    aider les familles de la région corse dont les...\n",
       "1573061    regrouper toutes personnes physiques ou morale...\n",
       "1573985    réunir des fonds qui seront versés non plus à ...\n",
       "1576811    aider les enfants, les adolescents et les adul...\n",
       "1580159    organiser et participer à des événements sport...\n",
       "1585182    fédérer les particuliers et les entreprises da...\n",
       "1585308    aide à la recherche; information sur les leucé...\n",
       "1585929    faire plaisir (cadeaux,sorties,réalisation de ...\n",
       "1587184    favoriser, développer et promouvoir toutes act...\n",
       "1588232    promouvoir l'organisation des soins et la rech...\n",
       "1588734    de favoriser la recherche et d'encourager les ...\n",
       "1589161    aider les femmes, les enfants et les jeunes en...\n",
       "1593315    mettre en place des actions, notamment ludique...\n",
       "1593357    regrouper les personnes s'interssant aux probl...\n",
       "1594493    en mémoire de marina, l'association aidons mar...\n",
       "1594496    participer et organiser diverses manifestation...\n",
       "1600941    financement de projets de recherches cliniques...\n",
       "1601596    organiser et participer à des événements sport...\n",
       "1601984    apporter des aides de toutes sortes aux enfant...\n",
       "1603553    organiser et participer à des événements sport...\n",
       "1605930    mise en place d'actions et défis sportifs de t...\n",
       "1606139    soutien des enfants / adultes malades de cance...\n",
       "1606439    récolter des fonds pour la recherche contre le...\n",
       "Name: objet, Length: 462, dtype: object"
      ]
     },
     "execution_count": 111,
     "metadata": {},
     "output_type": "execute_result"
    }
   ],
   "source": [
    "data[data[\"indic_cancerenfant\"]==1][\"objet\"]"
   ]
  }
 ],
 "metadata": {
  "kernelspec": {
   "display_name": "Python 3",
   "language": "python",
   "name": "python3"
  }
 },
 "nbformat": 4,
 "nbformat_minor": 2
}
